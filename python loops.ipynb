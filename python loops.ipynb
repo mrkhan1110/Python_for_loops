{
 "cells": [
  {
   "cell_type": "markdown",
   "id": "9c6cc1ff-f8a3-450a-b17e-4d87ce02551c",
   "metadata": {},
   "source": [
    "BASIC LEVEL:"
   ]
  },
  {
   "cell_type": "markdown",
   "id": "501e9c5c-0291-41b5-a743-b3c2a4a61bf5",
   "metadata": {},
   "source": [
    "1. Write a Python program to print the numbers from 1 to 10 using a `for` loop."
   ]
  },
  {
   "cell_type": "code",
   "execution_count": 1,
   "id": "db562249-e435-4033-a3bf-c0ff43f2cbc6",
   "metadata": {},
   "outputs": [
    {
     "name": "stdout",
     "output_type": "stream",
     "text": [
      "1\n",
      "2\n",
      "3\n",
      "4\n",
      "5\n",
      "6\n",
      "7\n",
      "8\n",
      "9\n",
      "10\n"
     ]
    }
   ],
   "source": [
    "for i in range(1, 11):\n",
    "    print(i)"
   ]
  },
  {
   "cell_type": "markdown",
   "id": "67df6773-39fd-4c16-805d-8586fcd43e49",
   "metadata": {},
   "source": [
    "2. Create a program that calculates the sum of all numbers in a list using a `for` loop."
   ]
  },
  {
   "cell_type": "code",
   "execution_count": 2,
   "id": "c6cc3f42-dcf4-419a-94c4-848142fc4e80",
   "metadata": {},
   "outputs": [
    {
     "name": "stdout",
     "output_type": "stream",
     "text": [
      "The sum of the numbers in the list is: 75\n"
     ]
    }
   ],
   "source": [
    "# Define a list of numbers\n",
    "numbers = [5, 10, 15, 20, 25]\n",
    "\n",
    "# Initialize a variable to store the sum\n",
    "total = 0\n",
    "\n",
    "# Use a for loop to iterate through the list and calculate the sum\n",
    "for num in numbers:\n",
    "    total += num\n",
    "\n",
    "# Print the result\n",
    "print(\"The sum of the numbers in the list is:\", total)"
   ]
  },
  {
   "cell_type": "markdown",
   "id": "8e08c925-a028-4a95-ae94-dfe3946efffd",
   "metadata": {},
   "source": [
    "3. Write a program to print the characters of a string in reverse order using a `for` loop."
   ]
  },
  {
   "cell_type": "code",
   "execution_count": 3,
   "id": "d30c5e22-aa91-4c90-a5a4-a445e63bed90",
   "metadata": {},
   "outputs": [
    {
     "name": "stdin",
     "output_type": "stream",
     "text": [
      "Enter a string:  PW is best for students\n"
     ]
    },
    {
     "name": "stdout",
     "output_type": "stream",
     "text": [
      "Reversed string: stneduts rof tseb si WP\n"
     ]
    }
   ],
   "source": [
    "input_string = input(\"Enter a string: \")\n",
    "reverse_string = \"\"\n",
    "\n",
    "for char in input_string[::-1]:\n",
    "    reverse_string += char\n",
    "\n",
    "print(\"Reversed string:\", reverse_string)"
   ]
  },
  {
   "cell_type": "markdown",
   "id": "853ca061-7637-42fd-9452-9df71e78ad15",
   "metadata": {},
   "source": [
    "4. Develop a program that finds the factorial of a given number using a `for` loop."
   ]
  },
  {
   "cell_type": "code",
   "execution_count": 4,
   "id": "81b8b332-9d9d-401f-b814-df778ae39482",
   "metadata": {},
   "outputs": [
    {
     "name": "stdin",
     "output_type": "stream",
     "text": [
      "Enter a number:  456\n"
     ]
    },
    {
     "name": "stdout",
     "output_type": "stream",
     "text": [
      "Factorial of 456 is 150777392777717065903328562798297482932764849966301315324902295697797980802999492049275470580840593582700556154654997912467653672836190567363944536581444396786039028419417159553169852939652733499484374432647121409002713034716885273557660568294514238651304204026421026217797122437474581042706674997505548774529387552185264469304745879944335896334980134727576771262477699704913814778801164976379963316514713032786305083016847394455111607701177156363125206697642497352441989049637406799105387152093299654856194446887474831405921359722324720996553956200165400519069670468845686118517860926559421327845227712982865242890852011587912148558934925229259778865164753102371910801614732061965104129730561590839408147446252948841011789641706225763887234100676084552005497753764496546383864694159909979495432469993306110242973486330432796522331628915418533758582252153753291412897349335363154308911927972242304805109760000000000000000000000000000000000000000000000000000000000000000000000000000000000000000000000000000000000000000\n"
     ]
    }
   ],
   "source": [
    "num = int(input(\"Enter a number: \"))\n",
    "factorial = 1\n",
    "\n",
    "for i in range(1, num + 1):\n",
    "    factorial *= i\n",
    "\n",
    "print(\"Factorial of\", num, \"is\", factorial)"
   ]
  },
  {
   "cell_type": "markdown",
   "id": "9447e3df-0317-4432-8297-7e65af1f6a57",
   "metadata": {},
   "source": [
    "5. Create a program to print the multiplication table of a given number using a `for` loop."
   ]
  },
  {
   "cell_type": "code",
   "execution_count": 5,
   "id": "049fbc85-297d-46e9-8413-555fe4fc41c6",
   "metadata": {},
   "outputs": [
    {
     "name": "stdin",
     "output_type": "stream",
     "text": [
      "Enter a number:  89\n"
     ]
    },
    {
     "name": "stdout",
     "output_type": "stream",
     "text": [
      "Multiplication table of 89:\n",
      "89 x 1 = 89\n",
      "89 x 2 = 178\n",
      "89 x 3 = 267\n",
      "89 x 4 = 356\n",
      "89 x 5 = 445\n",
      "89 x 6 = 534\n",
      "89 x 7 = 623\n",
      "89 x 8 = 712\n",
      "89 x 9 = 801\n",
      "89 x 10 = 890\n"
     ]
    }
   ],
   "source": [
    "num = int(input(\"Enter a number: \"))\n",
    "\n",
    "print(f\"Multiplication table of {num}:\")\n",
    "for i in range(1, 11):\n",
    "    print(f\"{num} x {i} = {num * i}\")"
   ]
  },
  {
   "cell_type": "markdown",
   "id": "69ca19cd-eb8e-475b-b8a8-afa8fa81c696",
   "metadata": {},
   "source": [
    "6. Write a program that counts the number of even and odd numbers in a list using a `for` loop."
   ]
  },
  {
   "cell_type": "code",
   "execution_count": 6,
   "id": "87507a73-285a-45ad-a1de-e6abcc056ed3",
   "metadata": {},
   "outputs": [
    {
     "name": "stdin",
     "output_type": "stream",
     "text": [
      "Enter a list of numbers separated by spaces:  56 23 45\n"
     ]
    },
    {
     "name": "stdout",
     "output_type": "stream",
     "text": [
      "Even numbers: 1\n",
      "Odd numbers: 2\n"
     ]
    }
   ],
   "source": [
    "numbers = [int(x) for x in input(\"Enter a list of numbers separated by spaces: \").split()]\n",
    "even_count = 0\n",
    "odd_count = 0\n",
    "\n",
    "for num in numbers:\n",
    "    if num % 2 == 0:\n",
    "        even_count += 1\n",
    "    else:\n",
    "        odd_count += 1\n",
    "\n",
    "print(\"Even numbers:\", even_count)\n",
    "print(\"Odd numbers:\", odd_count)"
   ]
  },
  {
   "cell_type": "markdown",
   "id": "5b945c30-7073-4d53-923c-1f1985696301",
   "metadata": {},
   "source": [
    "7. Develop a program that prints the squares of numbers from 1 to 5 using a `for` loop."
   ]
  },
  {
   "cell_type": "code",
   "execution_count": 7,
   "id": "fc4fd904-35a5-4b08-8743-9b0d3c2db259",
   "metadata": {},
   "outputs": [
    {
     "name": "stdout",
     "output_type": "stream",
     "text": [
      "Squares of numbers from 1 to 5:\n",
      "1 squared is 1\n",
      "2 squared is 4\n",
      "3 squared is 9\n",
      "4 squared is 16\n",
      "5 squared is 25\n"
     ]
    }
   ],
   "source": [
    "print(\"Squares of numbers from 1 to 5:\")\n",
    "for i in range(1, 6):\n",
    "    print(f\"{i} squared is {i**2}\")"
   ]
  },
  {
   "cell_type": "markdown",
   "id": "06146c1e-b2cc-427c-b2d4-39305450e128",
   "metadata": {},
   "source": [
    "8. Create a program to find the length of a string without using the `len()` function."
   ]
  },
  {
   "cell_type": "code",
   "execution_count": 8,
   "id": "f8e7e076-f060-41ac-a7c7-da871ebb2594",
   "metadata": {},
   "outputs": [
    {
     "name": "stdin",
     "output_type": "stream",
     "text": [
      "Enter a string:  I love my India\n"
     ]
    },
    {
     "name": "stdout",
     "output_type": "stream",
     "text": [
      "Length of the string is 15\n"
     ]
    }
   ],
   "source": [
    "input_string = input(\"Enter a string: \")\n",
    "length = 0\n",
    "\n",
    "for char in input_string:\n",
    "    length += 1\n",
    "\n",
    "print(\"Length of the string is\", length)"
   ]
  },
  {
   "cell_type": "markdown",
   "id": "19c2128a-a89b-4c17-99f8-7d86c7161524",
   "metadata": {},
   "source": [
    "9. Write a program that calculates the average of a list of numbers using a `for` loop."
   ]
  },
  {
   "cell_type": "code",
   "execution_count": 9,
   "id": "260f2b8d-08a9-4512-bdab-f4c0f0acda18",
   "metadata": {},
   "outputs": [
    {
     "name": "stdin",
     "output_type": "stream",
     "text": [
      "Enter a list of numbers separated by spaces:  56 78 43\n"
     ]
    },
    {
     "name": "stdout",
     "output_type": "stream",
     "text": [
      "Average: 59.0\n"
     ]
    }
   ],
   "source": [
    "numbers = [float(x) for x in input(\"Enter a list of numbers separated by spaces: \").split()]\n",
    "total = 0\n",
    "\n",
    "for num in numbers:\n",
    "    total += num\n",
    "\n",
    "average = total / len(numbers)\n",
    "print(\"Average:\", average)"
   ]
  },
  {
   "cell_type": "markdown",
   "id": "fe6b9518-2d0b-4739-bf0e-8c771ce314c5",
   "metadata": {},
   "source": [
    "10. Develop a program that prints the first `n` Fibonacci numbers using a `for` loop."
   ]
  },
  {
   "cell_type": "code",
   "execution_count": 10,
   "id": "9e5e91e2-6178-48fd-99b5-898f07858900",
   "metadata": {},
   "outputs": [
    {
     "name": "stdin",
     "output_type": "stream",
     "text": [
      "Enter the number of Fibonacci numbers to generate:  89\n"
     ]
    },
    {
     "name": "stdout",
     "output_type": "stream",
     "text": [
      "Fibonacci sequence: [0, 1, 1, 2, 3, 5, 8, 13, 21, 34, 55, 89, 144, 233, 377, 610, 987, 1597, 2584, 4181, 6765, 10946, 17711, 28657, 46368, 75025, 121393, 196418, 317811, 514229, 832040, 1346269, 2178309, 3524578, 5702887, 9227465, 14930352, 24157817, 39088169, 63245986, 102334155, 165580141, 267914296, 433494437, 701408733, 1134903170, 1836311903, 2971215073, 4807526976, 7778742049, 12586269025, 20365011074, 32951280099, 53316291173, 86267571272, 139583862445, 225851433717, 365435296162, 591286729879, 956722026041, 1548008755920, 2504730781961, 4052739537881, 6557470319842, 10610209857723, 17167680177565, 27777890035288, 44945570212853, 72723460248141, 117669030460994, 190392490709135, 308061521170129, 498454011879264, 806515533049393, 1304969544928657, 2111485077978050, 3416454622906707, 5527939700884757, 8944394323791464, 14472334024676221, 23416728348467685, 37889062373143906, 61305790721611591, 99194853094755497, 160500643816367088, 259695496911122585, 420196140727489673, 679891637638612258, 1100087778366101931]\n"
     ]
    }
   ],
   "source": [
    "n = int(input(\"Enter the number of Fibonacci numbers to generate: \"))\n",
    "fibonacci_sequence = [0, 1]\n",
    "\n",
    "for i in range(2, n):\n",
    "    next_number = fibonacci_sequence[i-1] + fibonacci_sequence[i-2]\n",
    "    fibonacci_sequence.append(next_number)\n",
    "\n",
    "print(\"Fibonacci sequence:\", fibonacci_sequence)"
   ]
  },
  {
   "cell_type": "markdown",
   "id": "5d796b08-75c0-4dca-b43e-f7eef6356e99",
   "metadata": {},
   "source": [
    "Completed"
   ]
  },
  {
   "cell_type": "markdown",
   "id": "c5114347-0ee1-4107-9067-85cfbc1328dc",
   "metadata": {},
   "source": [
    "INTERMEDIATE LEVEL:"
   ]
  },
  {
   "cell_type": "markdown",
   "id": "0bed0ad0-0dcc-4797-91fc-7be035eeb7fb",
   "metadata": {},
   "source": [
    "11. Write a program to check if a given list contains any duplicates using a `for` loop."
   ]
  },
  {
   "cell_type": "code",
   "execution_count": 11,
   "id": "c527cdc4-f3da-4025-8017-aabf97c32e96",
   "metadata": {},
   "outputs": [
    {
     "name": "stdout",
     "output_type": "stream",
     "text": [
      "The list contains duplicates.\n"
     ]
    }
   ],
   "source": [
    "def has_duplicates(lst):\n",
    "    seen = set()\n",
    "    for item in lst:\n",
    "        if item in seen:\n",
    "            return True\n",
    "        seen.add(item)\n",
    "    return False\n",
    "\n",
    "my_list = [1, 2, 3, 4, 5, 5]  # Example list with duplicates\n",
    "if has_duplicates(my_list):\n",
    "    print(\"The list contains duplicates.\")\n",
    "else:\n",
    "    print(\"The list does not contain duplicates.\")"
   ]
  },
  {
   "cell_type": "markdown",
   "id": "640e1dc2-7bbc-4649-bb44-87ac4917bb9b",
   "metadata": {},
   "source": [
    "12. Create a program that prints the prime numbers in a given range using a `for` loop."
   ]
  },
  {
   "cell_type": "code",
   "execution_count": 12,
   "id": "e5330426-510d-470e-b517-0e975e5ffc80",
   "metadata": {},
   "outputs": [
    {
     "name": "stdin",
     "output_type": "stream",
     "text": [
      "Enter the start of the range:  5\n",
      "Enter the end of the range:  8\n"
     ]
    },
    {
     "name": "stdout",
     "output_type": "stream",
     "text": [
      "Prime numbers between 5 and 8:\n",
      "5\n",
      "7\n"
     ]
    }
   ],
   "source": [
    "def is_prime(num):\n",
    "    if num <= 1:\n",
    "        return False\n",
    "    for i in range(2, int(num**0.5) + 1):\n",
    "        if num % i == 0:\n",
    "            return False\n",
    "    return True\n",
    "\n",
    "start = int(input(\"Enter the start of the range: \"))\n",
    "end = int(input(\"Enter the end of the range: \"))\n",
    "\n",
    "print(f\"Prime numbers between {start} and {end}:\")\n",
    "for num in range(start, end + 1):\n",
    "    if is_prime(num):\n",
    "        print(num)"
   ]
  },
  {
   "cell_type": "markdown",
   "id": "00bb4b0d-4df8-4f6f-b5a7-4d3fdce011d2",
   "metadata": {},
   "source": [
    "13. Develop a program that counts the number of vowels in a string using a `for` loop."
   ]
  },
  {
   "cell_type": "code",
   "execution_count": 13,
   "id": "6514a4ec-e4ff-4892-a060-c65a7dc3e27d",
   "metadata": {},
   "outputs": [
    {
     "name": "stdin",
     "output_type": "stream",
     "text": [
      "Enter a string:  My name is stephen\n"
     ]
    },
    {
     "name": "stdout",
     "output_type": "stream",
     "text": [
      "Number of vowels in the string: 5\n"
     ]
    }
   ],
   "source": [
    "input_string = input(\"Enter a string: \")\n",
    "vowels = \"AEIOUaeiou\"\n",
    "count = 0\n",
    "\n",
    "for char in input_string:\n",
    "    if char in vowels:\n",
    "        count += 1\n",
    "\n",
    "print(\"Number of vowels in the string:\", count)"
   ]
  },
  {
   "cell_type": "markdown",
   "id": "fff4b42a-ebe7-4eea-9d90-a88b4f70c848",
   "metadata": {},
   "source": [
    "14. Write a program to find the maximum element in a 2D list using a nested `for` loop."
   ]
  },
  {
   "cell_type": "code",
   "execution_count": 14,
   "id": "b7e34584-9f9b-44c9-af67-57f9843f206f",
   "metadata": {},
   "outputs": [
    {
     "name": "stdout",
     "output_type": "stream",
     "text": [
      "Maximum element in the 2D list: 9\n"
     ]
    }
   ],
   "source": [
    "matrix = [\n",
    "    [1, 2, 3],\n",
    "    [4, 5, 6],\n",
    "    [7, 8, 9]\n",
    "]\n",
    "\n",
    "max_value = matrix[0][0]\n",
    "\n",
    "for row in matrix:\n",
    "    for element in row:\n",
    "        if element > max_value:\n",
    "            max_value = element\n",
    "\n",
    "print(\"Maximum element in the 2D list:\", max_value)"
   ]
  },
  {
   "cell_type": "markdown",
   "id": "709230cf-a68e-4d6e-bb70-3e9e88e37611",
   "metadata": {},
   "source": [
    "15. Create a program that removes all occurrences of a specific element from a list using a `for` loop."
   ]
  },
  {
   "cell_type": "code",
   "execution_count": 15,
   "id": "8f23f008-0dad-4fcb-970c-374fc1d03382",
   "metadata": {},
   "outputs": [
    {
     "name": "stdout",
     "output_type": "stream",
     "text": [
      "List with 2 removed: [1, 3, 4, 5, 6]\n"
     ]
    }
   ],
   "source": [
    "my_list = [1, 2, 3, 4, 2, 5, 6, 2]  # Example list\n",
    "element_to_remove = 2\n",
    "\n",
    "new_list = []\n",
    "for item in my_list:\n",
    "    if item != element_to_remove:\n",
    "        new_list.append(item)\n",
    "\n",
    "print(\"List with\", element_to_remove, \"removed:\", new_list)"
   ]
  },
  {
   "cell_type": "markdown",
   "id": "3ede4f9b-e1d4-4702-88e9-b554eb8b1b76",
   "metadata": {},
   "source": [
    "16. Develop a program that generates a multiplication table for numbers from 1 to 5 using a nested `for` loop."
   ]
  },
  {
   "cell_type": "code",
   "execution_count": 16,
   "id": "7872873b-eb1c-49c1-913d-31a03a94c787",
   "metadata": {},
   "outputs": [
    {
     "name": "stdout",
     "output_type": "stream",
     "text": [
      "Multiplication table for 1:\n",
      "1 x 1 = 1\n",
      "1 x 2 = 2\n",
      "1 x 3 = 3\n",
      "1 x 4 = 4\n",
      "1 x 5 = 5\n",
      "1 x 6 = 6\n",
      "1 x 7 = 7\n",
      "1 x 8 = 8\n",
      "1 x 9 = 9\n",
      "1 x 10 = 10\n",
      "Multiplication table for 2:\n",
      "2 x 1 = 2\n",
      "2 x 2 = 4\n",
      "2 x 3 = 6\n",
      "2 x 4 = 8\n",
      "2 x 5 = 10\n",
      "2 x 6 = 12\n",
      "2 x 7 = 14\n",
      "2 x 8 = 16\n",
      "2 x 9 = 18\n",
      "2 x 10 = 20\n",
      "Multiplication table for 3:\n",
      "3 x 1 = 3\n",
      "3 x 2 = 6\n",
      "3 x 3 = 9\n",
      "3 x 4 = 12\n",
      "3 x 5 = 15\n",
      "3 x 6 = 18\n",
      "3 x 7 = 21\n",
      "3 x 8 = 24\n",
      "3 x 9 = 27\n",
      "3 x 10 = 30\n",
      "Multiplication table for 4:\n",
      "4 x 1 = 4\n",
      "4 x 2 = 8\n",
      "4 x 3 = 12\n",
      "4 x 4 = 16\n",
      "4 x 5 = 20\n",
      "4 x 6 = 24\n",
      "4 x 7 = 28\n",
      "4 x 8 = 32\n",
      "4 x 9 = 36\n",
      "4 x 10 = 40\n",
      "Multiplication table for 5:\n",
      "5 x 1 = 5\n",
      "5 x 2 = 10\n",
      "5 x 3 = 15\n",
      "5 x 4 = 20\n",
      "5 x 5 = 25\n",
      "5 x 6 = 30\n",
      "5 x 7 = 35\n",
      "5 x 8 = 40\n",
      "5 x 9 = 45\n",
      "5 x 10 = 50\n"
     ]
    }
   ],
   "source": [
    "for i in range(1, 6):\n",
    "    print(f\"Multiplication table for {i}:\")\n",
    "    for j in range(1, 11):\n",
    "        print(f\"{i} x {j} = {i * j}\")"
   ]
  },
  {
   "cell_type": "markdown",
   "id": "6219b194-5b03-4916-850a-cd33900b980f",
   "metadata": {},
   "source": [
    "17. Write a program that converts a list of Fahrenheit temperatures to Celsius using a `for` loop."
   ]
  },
  {
   "cell_type": "code",
   "execution_count": 17,
   "id": "3377c2a0-8899-4750-ad6a-cd4af640f8f2",
   "metadata": {},
   "outputs": [
    {
     "name": "stdout",
     "output_type": "stream",
     "text": [
      "Celsius temperatures: [0.0, 20.0, 35.0, 40.0, 100.0]\n"
     ]
    }
   ],
   "source": [
    "fahrenheit_temperatures = [32, 68, 95, 104, 212]  # Example list\n",
    "\n",
    "celsius_temperatures = []\n",
    "for fahrenheit in fahrenheit_temperatures:\n",
    "    celsius = (fahrenheit - 32) * 5/9\n",
    "    celsius_temperatures.append(celsius)\n",
    "\n",
    "print(\"Celsius temperatures:\", celsius_temperatures)"
   ]
  },
  {
   "cell_type": "markdown",
   "id": "dcfaea73-92a1-4f00-97f6-b1cdc895eb5e",
   "metadata": {},
   "source": [
    "18. Create a program to print the common elements from two lists using a `for` loop."
   ]
  },
  {
   "cell_type": "code",
   "execution_count": 18,
   "id": "65938043-b74b-497c-a324-36f2fde56807",
   "metadata": {},
   "outputs": [
    {
     "name": "stdout",
     "output_type": "stream",
     "text": [
      "Common elements: [3, 4, 5]\n"
     ]
    }
   ],
   "source": [
    "list1 = [1, 2, 3, 4, 5]\n",
    "list2 = [3, 4, 5, 6, 7]\n",
    "\n",
    "common_elements = []\n",
    "\n",
    "for item in list1:\n",
    "    if item in list2:\n",
    "        common_elements.append(item)\n",
    "\n",
    "print(\"Common elements:\", common_elements)"
   ]
  },
  {
   "cell_type": "markdown",
   "id": "6498ebbb-9a63-4551-b405-91116565432a",
   "metadata": {},
   "source": [
    "19. Develop a program that prints the pattern of right-angled triangles using a `for` loop. Use ‘*’ to draw the\n",
    "pattern"
   ]
  },
  {
   "cell_type": "code",
   "execution_count": 19,
   "id": "185f50e4-bbb8-4cfd-94bc-6524a12cae3a",
   "metadata": {},
   "outputs": [
    {
     "name": "stdin",
     "output_type": "stream",
     "text": [
      "Enter the number of rows:  56\n"
     ]
    },
    {
     "name": "stdout",
     "output_type": "stream",
     "text": [
      "*\n",
      "**\n",
      "***\n",
      "****\n",
      "*****\n",
      "******\n",
      "*******\n",
      "********\n",
      "*********\n",
      "**********\n",
      "***********\n",
      "************\n",
      "*************\n",
      "**************\n",
      "***************\n",
      "****************\n",
      "*****************\n",
      "******************\n",
      "*******************\n",
      "********************\n",
      "*********************\n",
      "**********************\n",
      "***********************\n",
      "************************\n",
      "*************************\n",
      "**************************\n",
      "***************************\n",
      "****************************\n",
      "*****************************\n",
      "******************************\n",
      "*******************************\n",
      "********************************\n",
      "*********************************\n",
      "**********************************\n",
      "***********************************\n",
      "************************************\n",
      "*************************************\n",
      "**************************************\n",
      "***************************************\n",
      "****************************************\n",
      "*****************************************\n",
      "******************************************\n",
      "*******************************************\n",
      "********************************************\n",
      "*********************************************\n",
      "**********************************************\n",
      "***********************************************\n",
      "************************************************\n",
      "*************************************************\n",
      "**************************************************\n",
      "***************************************************\n",
      "****************************************************\n",
      "*****************************************************\n",
      "******************************************************\n",
      "*******************************************************\n",
      "********************************************************\n"
     ]
    }
   ],
   "source": [
    "n = int(input(\"Enter the number of rows: \"))\n",
    "\n",
    "for i in range(1, n + 1):\n",
    "    print('*' * i)"
   ]
  },
  {
   "cell_type": "markdown",
   "id": "2dc81b01-4424-4d07-921c-5696c8b08ebc",
   "metadata": {},
   "source": [
    "20. Write a program to find the greatest common divisor (GCD) of two numbers using a `for` loop."
   ]
  },
  {
   "cell_type": "code",
   "execution_count": 20,
   "id": "55ec4404-d8a7-4afd-b5ae-4ec2e078c651",
   "metadata": {},
   "outputs": [
    {
     "name": "stdin",
     "output_type": "stream",
     "text": [
      "Enter the first number:  56\n",
      "Enter the second number:  56\n"
     ]
    },
    {
     "name": "stdout",
     "output_type": "stream",
     "text": [
      "GCD of 56 and 56 is 56\n"
     ]
    }
   ],
   "source": [
    "def find_gcd(a, b):\n",
    "    while b:\n",
    "        a, b = b, a % b\n",
    "    return a\n",
    "\n",
    "num1 = int(input(\"Enter the first number: \"))\n",
    "num2 = int(input(\"Enter the second number: \"))\n",
    "\n",
    "gcd = find_gcd(num1, num2)\n",
    "\n",
    "print(\"GCD of\", num1, \"and\", num2, \"is\", gcd)"
   ]
  },
  {
   "cell_type": "markdown",
   "id": "2bab0ba6-d310-46cd-91ff-ee553114fd0c",
   "metadata": {},
   "source": [
    "21. Create a program that calculates the sum of the digits of numbers in a list using a list comprehension."
   ]
  },
  {
   "cell_type": "code",
   "execution_count": 21,
   "id": "c9ee21c6-4468-48ee-9812-46817147cd6c",
   "metadata": {},
   "outputs": [
    {
     "name": "stdout",
     "output_type": "stream",
     "text": [
      "Sum of digits for each number: [6, 9, 21]\n"
     ]
    }
   ],
   "source": [
    "numbers = [123, 45, 678]\n",
    "\n",
    "digit_sums = [sum(int(digit) for digit in str(num)) for num in numbers]\n",
    "\n",
    "print(\"Sum of digits for each number:\", digit_sums)"
   ]
  },
  {
   "cell_type": "markdown",
   "id": "9723c738-8a5b-4dd4-8f13-b8889147fd50",
   "metadata": {},
   "source": [
    "22. Write a program to find the prime factors of a given number using a `for` loop and list comprehension."
   ]
  },
  {
   "cell_type": "code",
   "execution_count": 22,
   "id": "c0f60715-12da-4795-bcae-b2cedd573369",
   "metadata": {},
   "outputs": [
    {
     "name": "stdin",
     "output_type": "stream",
     "text": [
      "Enter a number:  89\n"
     ]
    },
    {
     "name": "stdout",
     "output_type": "stream",
     "text": [
      "Prime factors of 89 are: [89]\n"
     ]
    }
   ],
   "source": [
    "def is_prime(n):\n",
    "    if n <= 1:\n",
    "        return False\n",
    "    for i in range(2, int(n**0.5) + 1):\n",
    "        if n % i == 0:\n",
    "            return False\n",
    "    return True\n",
    "\n",
    "number = int(input(\"Enter a number: \"))\n",
    "\n",
    "prime_factors = [factor for factor in range(2, number + 1) if is_prime(factor) and number % factor == 0]\n",
    "\n",
    "print(\"Prime factors of\", number, \"are:\", prime_factors)"
   ]
  },
  {
   "cell_type": "markdown",
   "id": "293d3568-db72-48dc-8661-4c1ff2cb02ea",
   "metadata": {},
   "source": [
    "23. Develop a program that extracts unique elements from a list and stores them in a new list using a list"
   ]
  },
  {
   "cell_type": "code",
   "execution_count": 23,
   "id": "df0b6d80-9455-4652-86e2-5c1bce7122fe",
   "metadata": {},
   "outputs": [
    {
     "name": "stdout",
     "output_type": "stream",
     "text": [
      "[1, 3, 5]\n"
     ]
    }
   ],
   "source": [
    "original_list = [1, 2, 2, 3, 4, 4, 5, 6, 6]\n",
    "unique_list = [x for x in original_list if original_list.count(x) == 1]\n",
    "print(unique_list)"
   ]
  },
  {
   "cell_type": "markdown",
   "id": "4b93e223-71e8-4d4e-a879-70b5aee9f932",
   "metadata": {},
   "source": [
    "24. Create a program that generates a list of all palindromic numbers up to a specified limit using a list"
   ]
  },
  {
   "cell_type": "code",
   "execution_count": 24,
   "id": "f5a82216-fd37-4a4b-902d-11842a818098",
   "metadata": {},
   "outputs": [
    {
     "name": "stdin",
     "output_type": "stream",
     "text": [
      "Enter the limit:  8\n"
     ]
    },
    {
     "name": "stdout",
     "output_type": "stream",
     "text": [
      "[1, 2, 3, 4, 5, 6, 7, 8]\n"
     ]
    }
   ],
   "source": [
    "limit = int(input(\"Enter the limit: \"))\n",
    "palindromic_numbers = [num for num in range(1, limit + 1) if str(num) == str(num)[::-1]]\n",
    "print(palindromic_numbers)"
   ]
  },
  {
   "cell_type": "markdown",
   "id": "f622237c-d58c-4619-9128-1ae6612bd397",
   "metadata": {},
   "source": [
    "25. Write a program to flatten a nested list using list comprehension."
   ]
  },
  {
   "cell_type": "code",
   "execution_count": 25,
   "id": "1e28c9f5-8440-408e-b004-e7b154104ff4",
   "metadata": {},
   "outputs": [
    {
     "name": "stdout",
     "output_type": "stream",
     "text": [
      "[1, 2, 3, 4, 5, 6, 7, 8]\n"
     ]
    }
   ],
   "source": [
    "nested_list = [[1, 2, 3], [4, 5], [6, 7, 8]]\n",
    "flattened_list = [item for sublist in nested_list for item in sublist]\n",
    "print(flattened_list)"
   ]
  },
  {
   "cell_type": "markdown",
   "id": "bce33191-039f-45d8-948b-c6318e8e814a",
   "metadata": {},
   "source": [
    "26. Develop a program that computes the sum of even and odd numbers in a list separately using list"
   ]
  },
  {
   "cell_type": "code",
   "execution_count": 26,
   "id": "df8664d9-5e31-4217-8b9b-118051eda6e4",
   "metadata": {},
   "outputs": [
    {
     "name": "stdout",
     "output_type": "stream",
     "text": [
      "Sum of even numbers: 30\n",
      "Sum of odd numbers: 25\n"
     ]
    }
   ],
   "source": [
    "numbers = [1, 2, 3, 4, 5, 6, 7, 8, 9, 10]\n",
    "even_sum = sum([num for num in numbers if num % 2 == 0])\n",
    "odd_sum = sum([num for num in numbers if num % 2 != 0])\n",
    "print(\"Sum of even numbers:\", even_sum)\n",
    "print(\"Sum of odd numbers:\", odd_sum)"
   ]
  },
  {
   "cell_type": "markdown",
   "id": "49c5a6d8-5485-49b0-953a-f8b52eefaf4c",
   "metadata": {},
   "source": [
    "27. Create a program that generates a list of squares of odd numbers between 1 and 10 using list"
   ]
  },
  {
   "cell_type": "code",
   "execution_count": 27,
   "id": "f789e8fb-1353-40c6-bb0b-93dc1e7bbbba",
   "metadata": {},
   "outputs": [
    {
     "name": "stdout",
     "output_type": "stream",
     "text": [
      "[1, 9, 25, 49, 81]\n"
     ]
    }
   ],
   "source": [
    "squares_of_odds = [x**2 for x in range(1, 11) if x % 2 != 0]\n",
    "print(squares_of_odds)"
   ]
  },
  {
   "cell_type": "markdown",
   "id": "b1adf719-8814-4c75-ba66-e9c9c27f5b1b",
   "metadata": {},
   "source": [
    "28. Write a program that combines two lists into a dictionary using list comprehension."
   ]
  },
  {
   "cell_type": "code",
   "execution_count": 28,
   "id": "3dddaf25-6f8d-4d12-a29a-6d2ee4b50b9e",
   "metadata": {},
   "outputs": [
    {
     "name": "stdout",
     "output_type": "stream",
     "text": [
      "{'name': 'Abdul', 'age': 20, 'city': 'Lucknow'}\n"
     ]
    }
   ],
   "source": [
    "keys = [\"name\", \"age\", \"city\"]\n",
    "values = [\"Abdul\", 20, \"Lucknow\"]\n",
    "\n",
    "result_dict = {keys[i]: values[i] for i in range(len(keys))}\n",
    "print(result_dict)"
   ]
  },
  {
   "cell_type": "markdown",
   "id": "e975e8fa-e798-429e-a5f1-0c2754dd5ab7",
   "metadata": {},
   "source": [
    "29. Develop a program that extracts the vowels from a string and stores them in a list using list comprehension."
   ]
  },
  {
   "cell_type": "code",
   "execution_count": 29,
   "id": "4ca21c62-ddbe-4ee3-882a-cd43f0dcce50",
   "metadata": {},
   "outputs": [
    {
     "name": "stdout",
     "output_type": "stream",
     "text": [
      "['e', 'o', 'o']\n"
     ]
    }
   ],
   "source": [
    "text = \"Hello, World!\"\n",
    "vowels = [char for char in text if char.lower() in 'aeiou']\n",
    "print(vowels)"
   ]
  },
  {
   "cell_type": "markdown",
   "id": "5dcb006e-0d33-4c47-b490-13509035bf2b",
   "metadata": {},
   "source": [
    "30. Create a program that removes all non-numeric characters from a list of strings using list comprehension."
   ]
  },
  {
   "cell_type": "code",
   "execution_count": 30,
   "id": "834840c6-603a-4a2f-9847-afaea33eb225",
   "metadata": {},
   "outputs": [
    {
     "name": "stdout",
     "output_type": "stream",
     "text": [
      "['123', '456', '789', '']\n"
     ]
    }
   ],
   "source": [
    "input_list = [\"abc123\", \"456def\", \"789\", \"xyz\"]\n",
    "numeric_only = [''.join(char for char in string if char.isnumeric()) for string in input_list]\n",
    "print(numeric_only)"
   ]
  },
  {
   "cell_type": "markdown",
   "id": "949b43a4-cd5d-4d17-bf8a-245f07e9d408",
   "metadata": {},
   "source": [
    "CHALLENGE LEVEL:"
   ]
  },
  {
   "cell_type": "markdown",
   "id": "3ccc4497-6fc8-44a4-91c6-13c2f6208a32",
   "metadata": {},
   "source": [
    "31. Write a program to generate a list of prime numbers using the Sieve of Eratosthenes algorithm and list comprehension."
   ]
  },
  {
   "cell_type": "code",
   "execution_count": 31,
   "id": "6dc9918b-2ddf-430a-8ca9-5aeecc40f50d",
   "metadata": {},
   "outputs": [
    {
     "name": "stdout",
     "output_type": "stream",
     "text": [
      "[2, 3, 5, 7, 11, 13, 17, 19, 23, 29, 31, 37, 41, 43, 47, 53, 59, 61, 67, 71, 73, 79, 83, 89, 97]\n"
     ]
    }
   ],
   "source": [
    "def sieve_eratosthenes(limit):\n",
    "    sieve = [True] * (limit + 1)\n",
    "    sieve[0] = sieve[1] = False\n",
    "    for current in range(2, int(limit**0.5) + 1):\n",
    "        if sieve[current]:\n",
    "            sieve[current*current::current] = [False] * ((limit - current*current)//current + 1)\n",
    "    return [num for num, is_prime in enumerate(sieve) if is_prime]\n",
    "\n",
    "# Example usage:\n",
    "limit = 100\n",
    "prime_numbers = sieve_eratosthenes(limit)\n",
    "print(prime_numbers)"
   ]
  },
  {
   "cell_type": "markdown",
   "id": "b0b87959-a3f5-41ef-af36-348fea691f8a",
   "metadata": {},
   "source": [
    "32. Create a program that generates a list of all Pythagorean triplets up to a specified limit using list comprehension."
   ]
  },
  {
   "cell_type": "code",
   "execution_count": 32,
   "id": "dbbcfbe6-c524-4cbe-ae1c-49533f16368a",
   "metadata": {},
   "outputs": [
    {
     "name": "stdout",
     "output_type": "stream",
     "text": [
      "[(3, 4, 5), (5, 12, 13), (6, 8, 10), (8, 15, 17), (9, 12, 15), (12, 16, 20)]\n"
     ]
    }
   ],
   "source": [
    "def generate_pythagorean_triplets(limit):\n",
    "    triplets = [(a, b, c) for a in range(1, limit + 1)\n",
    "                           for b in range(a, limit + 1)\n",
    "                           for c in range(b, limit + 1)\n",
    "                           if a**2 + b**2 == c**2]\n",
    "    return triplets\n",
    "\n",
    "# Example usage:\n",
    "limit = 20  # You can change the limit to any desired value\n",
    "pythagorean_triplets = generate_pythagorean_triplets(limit)\n",
    "print(pythagorean_triplets)"
   ]
  },
  {
   "cell_type": "markdown",
   "id": "1f3c566a-0ec7-4492-b2a4-aa948f6c32c4",
   "metadata": {},
   "source": [
    "33. Develop a program that generates a list of all possible combinations of two lists using list comprehension."
   ]
  },
  {
   "cell_type": "code",
   "execution_count": 33,
   "id": "4923efbf-1f38-4830-9cfa-cdab3e54f64d",
   "metadata": {},
   "outputs": [
    {
     "name": "stdout",
     "output_type": "stream",
     "text": [
      "[(1, 'a'), (1, 'b'), (2, 'a'), (2, 'b'), (3, 'a'), (3, 'b')]\n"
     ]
    }
   ],
   "source": [
    "list1 = [1, 2, 3]\n",
    "list2 = ['a', 'b']\n",
    "\n",
    "combinations = [(x, y) for x in list1 for y in list2]\n",
    "print(combinations)"
   ]
  },
  {
   "cell_type": "markdown",
   "id": "7b989eed-a535-476f-b365-c79f86eaafbf",
   "metadata": {},
   "source": [
    "34. Write a program that calculates the mean, median, and mode of a list of numbers using list comprehension."
   ]
  },
  {
   "cell_type": "code",
   "execution_count": 34,
   "id": "69647535-417f-4b7c-8dea-54e2a09404bb",
   "metadata": {},
   "outputs": [
    {
     "name": "stdout",
     "output_type": "stream",
     "text": [
      "Mean: 5.0\n",
      "Median: 5\n",
      "Mode: 1\n"
     ]
    }
   ],
   "source": [
    "import statistics\n",
    "\n",
    "numbers = [1, 2, 3, 4, 5, 6, 7, 8, 9]\n",
    "\n",
    "mean = sum(numbers) / len(numbers)\n",
    "median = statistics.median(numbers)\n",
    "mode = statistics.mode(numbers)\n",
    "\n",
    "print(f\"Mean: {mean}\")\n",
    "print(f\"Median: {median}\")\n",
    "print(f\"Mode: {mode}\")"
   ]
  },
  {
   "cell_type": "markdown",
   "id": "c3532138-ea71-4753-88bb-5999a8a5b843",
   "metadata": {},
   "source": [
    "35. Create a program that generates Pascal's triangle up to a specified number of rows using list comprehension"
   ]
  },
  {
   "cell_type": "code",
   "execution_count": 35,
   "id": "fe7032ce-e92e-4255-b8b2-336680950b1b",
   "metadata": {},
   "outputs": [
    {
     "name": "stdout",
     "output_type": "stream",
     "text": [
      "[1]\n",
      "[1, 1]\n",
      "[1, 2, 1]\n",
      "[1, 3, 3, 1]\n",
      "[1, 4, 6, 4, 1]\n"
     ]
    }
   ],
   "source": [
    "def generate_pascals_triangle(num_rows):\n",
    "    triangle = [[1]]\n",
    "    for _ in range(num_rows - 1):\n",
    "        row = [1] + [triangle[-1][i] + triangle[-1][i + 1] for i in range(len(triangle[-1]) - 1)] + [1]\n",
    "        triangle.append(row)\n",
    "    return triangle\n",
    "\n",
    "num_rows = 5  # Change to the desired number of rows\n",
    "pascals_triangle = generate_pascals_triangle(num_rows)\n",
    "for row in pascals_triangle:\n",
    "    print(row)"
   ]
  },
  {
   "cell_type": "markdown",
   "id": "84dd5b37-0e57-4968-9b4f-0c9ea56ee517",
   "metadata": {},
   "source": [
    "36. Develop a program that calculates the sum of the digits of a factorial of numbers from 1 to 5 using list comprehension."
   ]
  },
  {
   "cell_type": "code",
   "execution_count": 36,
   "id": "b71d60fc-5615-458d-8e8c-a8cc3915225b",
   "metadata": {},
   "outputs": [
    {
     "name": "stdout",
     "output_type": "stream",
     "text": [
      "[1, 2, 6, 6, 3]\n"
     ]
    }
   ],
   "source": [
    "import math\n",
    "\n",
    "factorials = [math.factorial(i) for i in range(1, 6)]\n",
    "sum_of_digits = [sum(int(digit) for digit in str(factorial)) for factorial in factorials]\n",
    "print(sum_of_digits)"
   ]
  },
  {
   "cell_type": "markdown",
   "id": "1a6a8226-2599-44e1-a1f2-45206d96868b",
   "metadata": {},
   "source": [
    "37. Write a program that finds the longest word in a sentence using list comprehension."
   ]
  },
  {
   "cell_type": "code",
   "execution_count": 37,
   "id": "cbdf5e91-0fdd-4c6e-8f79-d171b3c52773",
   "metadata": {},
   "outputs": [
    {
     "name": "stdout",
     "output_type": "stream",
     "text": [
      "The longest word is: sentence\n"
     ]
    }
   ],
   "source": [
    "sentence = \"This is a sample sentence with some long words.\"\n",
    "\n",
    "words = sentence.split()\n",
    "longest_word = max(words, key=lambda word: len(word))\n",
    "print(f\"The longest word is: {longest_word}\")"
   ]
  },
  {
   "cell_type": "markdown",
   "id": "868dfbe9-c359-4b50-aadc-9b73110c1985",
   "metadata": {},
   "source": [
    "38. Create a program that filters a list of strings to include only those with more than three vowels using list comprehension."
   ]
  },
  {
   "cell_type": "code",
   "execution_count": 38,
   "id": "5fff4a23-956e-4df0-8c8b-5b23b50fd412",
   "metadata": {},
   "outputs": [
    {
     "name": "stdout",
     "output_type": "stream",
     "text": [
      "[]\n"
     ]
    }
   ],
   "source": [
    "def count_vowels(word):\n",
    "    vowels = \"AEIOUaeiou\"\n",
    "    return sum(1 for letter in word if letter in vowels)\n",
    "\n",
    "word_list = [\"apple\", \"banana\", \"grape\", \"hello\", \"elephant\", \"cat\"]\n",
    "\n",
    "filtered_words = [word for word in word_list if count_vowels(word) > 3]\n",
    "print(filtered_words)"
   ]
  },
  {
   "cell_type": "markdown",
   "id": "447988bf-36f9-4e64-82a7-26bd2cd206eb",
   "metadata": {},
   "source": [
    "39. Develop a program that calculates the sum of the digits of numbers from 1 to 1000 using list comprehension."
   ]
  },
  {
   "cell_type": "code",
   "execution_count": 39,
   "id": "2c356789-4d5f-48cc-bde2-b06d4f0f0c02",
   "metadata": {},
   "outputs": [
    {
     "name": "stdout",
     "output_type": "stream",
     "text": [
      "13501\n"
     ]
    }
   ],
   "source": [
    "sum_of_digits = [sum(int(digit) for digit in str(number)) for number in range(1, 1001)]\n",
    "print(sum(sum_of_digits))"
   ]
  },
  {
   "cell_type": "markdown",
   "id": "30b48ac1-2729-46a0-9453-6d00424f5018",
   "metadata": {},
   "source": [
    "40. Write a program that generates a list of prime palindromic numbers using list comprehension."
   ]
  },
  {
   "cell_type": "code",
   "execution_count": 40,
   "id": "5c6256f7-cc14-4f49-bf5b-f072a4621769",
   "metadata": {},
   "outputs": [
    {
     "name": "stdout",
     "output_type": "stream",
     "text": [
      "[2, 3, 5, 7, 11, 101, 131, 151, 181, 191, 313, 353, 373, 383, 727, 757, 787, 797, 919, 929]\n"
     ]
    }
   ],
   "source": [
    "def is_prime(number):\n",
    "    if number <= 1:\n",
    "        return False\n",
    "    if number <= 3:\n",
    "        return True\n",
    "    if number % 2 == 0 or number % 3 == 0:\n",
    "        return False\n",
    "    i = 5\n",
    "    while i * i <= number:\n",
    "        if number % i == 0 or number % (i + 2) == 0:\n",
    "            return False\n",
    "        i += 6\n",
    "    return True\n",
    "\n",
    "def is_palindrome(number):\n",
    "    return str(number) == str(number)[::-1]\n",
    "\n",
    "prime_palindromes = [num for num in range(1, 1000) if is_prime(num) and is_palindrome(num)]\n",
    "print(prime_palindromes)"
   ]
  }
 ],
 "metadata": {
  "kernelspec": {
   "display_name": "Python 3 (ipykernel)",
   "language": "python",
   "name": "python3"
  },
  "language_info": {
   "codemirror_mode": {
    "name": "ipython",
    "version": 3
   },
   "file_extension": ".py",
   "mimetype": "text/x-python",
   "name": "python",
   "nbconvert_exporter": "python",
   "pygments_lexer": "ipython3",
   "version": "3.10.8"
  }
 },
 "nbformat": 4,
 "nbformat_minor": 5
}
